{
 "cells": [
  {
   "cell_type": "markdown",
   "id": "be463f88",
   "metadata": {},
   "source": [
    "# Step 5: Measure Population Fidelity (PF)"
   ]
  },
  {
   "cell_type": "code",
   "execution_count": 1,
   "id": "b1911373",
   "metadata": {},
   "outputs": [],
   "source": [
    "import pandas as pd \n",
    "import sys\n",
    "import os\n",
    "import re\n",
    "\n",
    "from sdv.metadata import SingleTableMetadata\n",
    "\n",
    "sys.path.append('../src')\n",
    "from PF_metrics import compute_all_pf_measures\n",
    "from utils import (getExperimentConfig, \n",
    "                   getPicklesFromDir, \n",
    "                   get_synthetic_filepaths_from_original_data_id)\n",
    "\n",
    "config = getExperimentConfig()\n",
    "folders = config['folders']\n",
    "\n",
    "settings = getPicklesFromDir(folders['settings_dir'])"
   ]
  },
  {
   "cell_type": "code",
   "execution_count": 2,
   "id": "c0404b2f",
   "metadata": {},
   "outputs": [
    {
     "name": "stdout",
     "output_type": "stream",
     "text": [
      "num samples data: 1536, num_klusters:15\n",
      "(1536, 9)\n",
      "<class 'pandas.core.frame.DataFrame'>\n",
      "num samples data: 1536, num_klusters:15\n",
      "(1536, 9)\n",
      "<class 'pandas.core.frame.DataFrame'>\n",
      "num samples data: 1536, num_klusters:15\n",
      "(1536, 9)\n",
      "<class 'pandas.core.frame.DataFrame'>\n",
      "num samples data: 1536, num_klusters:15\n",
      "(1536, 9)\n",
      "<class 'pandas.core.frame.DataFrame'>\n",
      "num samples data: 1536, num_klusters:15\n",
      "(1536, 9)\n",
      "<class 'pandas.core.frame.DataFrame'>\n",
      "num samples data: 1536, num_klusters:15\n",
      "(1536, 9)\n",
      "<class 'pandas.core.frame.DataFrame'>\n",
      "num samples data: 1536, num_klusters:15\n",
      "(1536, 9)\n",
      "<class 'pandas.core.frame.DataFrame'>\n",
      "num samples data: 1536, num_klusters:15\n",
      "(1536, 9)\n",
      "<class 'pandas.core.frame.DataFrame'>\n",
      "num samples data: 1536, num_klusters:15\n",
      "(1536, 9)\n",
      "<class 'pandas.core.frame.DataFrame'>\n",
      "num samples data: 1536, num_klusters:15\n",
      "(1536, 9)\n",
      "<class 'pandas.core.frame.DataFrame'>\n",
      "num samples data: 1536, num_klusters:15\n",
      "(1536, 9)\n",
      "<class 'pandas.core.frame.DataFrame'>\n",
      "num samples data: 1536, num_klusters:15\n",
      "(1536, 9)\n",
      "<class 'pandas.core.frame.DataFrame'>\n",
      "num samples data: 1536, num_klusters:15\n",
      "(1536, 9)\n",
      "<class 'pandas.core.frame.DataFrame'>\n",
      "num samples data: 1536, num_klusters:15\n",
      "(1536, 9)\n",
      "<class 'pandas.core.frame.DataFrame'>\n",
      "num samples data: 1536, num_klusters:15\n",
      "(1536, 9)\n",
      "<class 'pandas.core.frame.DataFrame'>\n",
      "num samples data: 1536, num_klusters:15\n",
      "(1536, 9)\n",
      "<class 'pandas.core.frame.DataFrame'>\n"
     ]
    },
    {
     "ename": "KeyboardInterrupt",
     "evalue": "",
     "output_type": "error",
     "traceback": [
      "\u001b[1;31m---------------------------------------------------------------------------\u001b[0m",
      "\u001b[1;31mKeyboardInterrupt\u001b[0m                         Traceback (most recent call last)",
      "Cell \u001b[1;32mIn[2], line 54\u001b[0m\n\u001b[0;32m     50\u001b[0m sd_path \u001b[38;5;241m=\u001b[39m folders[\u001b[38;5;124m'\u001b[39m\u001b[38;5;124msd_dir\u001b[39m\u001b[38;5;124m'\u001b[39m]\u001b[38;5;241m+\u001b[39msd_filename\n\u001b[0;32m     52\u001b[0m synthetic_data \u001b[38;5;241m=\u001b[39m pd\u001b[38;5;241m.\u001b[39mread_csv(sd_path)\n\u001b[1;32m---> 54\u001b[0m pf_measures \u001b[38;5;241m=\u001b[39m \u001b[43mcompute_all_pf_measures\u001b[49m\u001b[43m(\u001b[49m\u001b[43moriginal_data\u001b[49m\u001b[38;5;241;43m=\u001b[39;49m\u001b[43moriginal_data\u001b[49m\u001b[43m,\u001b[49m\n\u001b[0;32m     55\u001b[0m \u001b[43m                                      \u001b[49m\u001b[43msynthetic_data\u001b[49m\u001b[38;5;241;43m=\u001b[39;49m\u001b[43msynthetic_data\u001b[49m\u001b[43m,\u001b[49m\n\u001b[0;32m     56\u001b[0m \u001b[43m                                      \u001b[49m\u001b[43mmetadata\u001b[49m\u001b[38;5;241;43m=\u001b[39;49m\u001b[43mmetadata\u001b[49m\u001b[43m,\u001b[49m\n\u001b[0;32m     57\u001b[0m \u001b[43m                                      \u001b[49m\u001b[43mSD_id\u001b[49m\u001b[38;5;241;43m=\u001b[39;49m\u001b[43msd_id\u001b[49m\u001b[43m)\u001b[49m\n\u001b[0;32m     58\u001b[0m pf_measures[\u001b[38;5;124m'\u001b[39m\u001b[38;5;124mSDG quality\u001b[39m\u001b[38;5;124m'\u001b[39m] \u001b[38;5;241m=\u001b[39m quality\n\u001b[0;32m     60\u001b[0m result_df \u001b[38;5;241m=\u001b[39m pd\u001b[38;5;241m.\u001b[39mconcat([result_df, pf_measures], axis\u001b[38;5;241m=\u001b[39m\u001b[38;5;241m0\u001b[39m, ignore_index\u001b[38;5;241m=\u001b[39m\u001b[38;5;28;01mTrue\u001b[39;00m)\n",
      "File \u001b[1;32m~\\source\\repos\\master-thesis-vt23\\notebooks\\../src\\PF_metrics.py:549\u001b[0m, in \u001b[0;36mcompute_all_pf_measures\u001b[1;34m(original_data, synthetic_data, metadata, SD_id)\u001b[0m\n\u001b[0;32m    546\u001b[0m measures[\u001b[38;5;124m\"\u001b[39m\u001b[38;5;124ms_pMSE\u001b[39m\u001b[38;5;124m\"\u001b[39m] \u001b[38;5;241m=\u001b[39m result[\u001b[38;5;124m\"\u001b[39m\u001b[38;5;124mscore\u001b[39m\u001b[38;5;124m\"\u001b[39m]\n\u001b[0;32m    547\u001b[0m measures[\u001b[38;5;124m\"\u001b[39m\u001b[38;5;124ms_pMSE_time\u001b[39m\u001b[38;5;124m\"\u001b[39m] \u001b[38;5;241m=\u001b[39m result[\u001b[38;5;124m\"\u001b[39m\u001b[38;5;124mtime\u001b[39m\u001b[38;5;124m\"\u001b[39m]\n\u001b[1;32m--> 549\u001b[0m result \u001b[38;5;241m=\u001b[39m \u001b[43mcluster_metric\u001b[49m\u001b[43m(\u001b[49m\n\u001b[0;32m    550\u001b[0m \u001b[43m    \u001b[49m\u001b[43moriginal_data\u001b[49m\u001b[38;5;241;43m=\u001b[39;49m\u001b[43moriginal_data\u001b[49m\u001b[43m,\u001b[49m\n\u001b[0;32m    551\u001b[0m \u001b[43m    \u001b[49m\u001b[43msynthetic_data\u001b[49m\u001b[38;5;241;43m=\u001b[39;49m\u001b[43msynthetic_data\u001b[49m\u001b[43m,\u001b[49m\n\u001b[0;32m    552\u001b[0m \u001b[43m    \u001b[49m\u001b[43mnum_clusters\u001b[49m\u001b[38;5;241;43m=\u001b[39;49m\u001b[43mk_1\u001b[49m\u001b[43m,\u001b[49m\n\u001b[0;32m    553\u001b[0m \u001b[43m    \u001b[49m\u001b[43mmetadata\u001b[49m\u001b[38;5;241;43m=\u001b[39;49m\u001b[43mmetadata\u001b[49m\u001b[43m,\u001b[49m\n\u001b[0;32m    554\u001b[0m \u001b[43m\u001b[49m\u001b[43m)\u001b[49m\n\u001b[0;32m    555\u001b[0m measures[\u001b[38;5;124m\"\u001b[39m\u001b[38;5;124mCluster_1\u001b[39m\u001b[38;5;124m\"\u001b[39m] \u001b[38;5;241m=\u001b[39m result[\u001b[38;5;124m\"\u001b[39m\u001b[38;5;124mscore\u001b[39m\u001b[38;5;124m\"\u001b[39m]\n\u001b[0;32m    556\u001b[0m measures[\u001b[38;5;124m\"\u001b[39m\u001b[38;5;124mCluster_1_time\u001b[39m\u001b[38;5;124m\"\u001b[39m] \u001b[38;5;241m=\u001b[39m result[\u001b[38;5;124m\"\u001b[39m\u001b[38;5;124mtime\u001b[39m\u001b[38;5;124m\"\u001b[39m]\n",
      "File \u001b[1;32m~\\source\\repos\\master-thesis-vt23\\notebooks\\../src\\utils.py:83\u001b[0m, in \u001b[0;36mtimefunction.<locals>.timefunction_wrapper\u001b[1;34m(*args, **kwargs)\u001b[0m\n\u001b[0;32m     80\u001b[0m \u001b[38;5;129m@wraps\u001b[39m(func)\n\u001b[0;32m     81\u001b[0m \u001b[38;5;28;01mdef\u001b[39;00m \u001b[38;5;21mtimefunction_wrapper\u001b[39m(\u001b[38;5;241m*\u001b[39margs, \u001b[38;5;241m*\u001b[39m\u001b[38;5;241m*\u001b[39mkwargs):\n\u001b[0;32m     82\u001b[0m     start_time \u001b[38;5;241m=\u001b[39m time\u001b[38;5;241m.\u001b[39mperf_counter()\n\u001b[1;32m---> 83\u001b[0m     score \u001b[38;5;241m=\u001b[39m func(\u001b[38;5;241m*\u001b[39margs, \u001b[38;5;241m*\u001b[39m\u001b[38;5;241m*\u001b[39mkwargs)\n\u001b[0;32m     84\u001b[0m     end_time \u001b[38;5;241m=\u001b[39m time\u001b[38;5;241m.\u001b[39mperf_counter()\n\u001b[0;32m     86\u001b[0m     total_time \u001b[38;5;241m=\u001b[39m end_time \u001b[38;5;241m-\u001b[39m start_time\n",
      "File \u001b[1;32m~\\source\\repos\\master-thesis-vt23\\notebooks\\../src\\PF_metrics.py:323\u001b[0m, in \u001b[0;36mcluster_metric\u001b[1;34m(original_data, synthetic_data, num_clusters, metadata, random_state)\u001b[0m\n\u001b[0;32m    321\u001b[0m     \u001b[38;5;28mprint\u001b[39m(scaled_combined_data\u001b[38;5;241m.\u001b[39mshape)\n\u001b[0;32m    322\u001b[0m     \u001b[38;5;28mprint\u001b[39m(\u001b[38;5;28mtype\u001b[39m(scaled_combined_data))\n\u001b[1;32m--> 323\u001b[0m     \u001b[43mkproto\u001b[49m\u001b[38;5;241;43m.\u001b[39;49m\u001b[43mfit\u001b[49m\u001b[43m(\u001b[49m\u001b[43mscaled_combined_data\u001b[49m\u001b[43m,\u001b[49m\u001b[43m \u001b[49m\u001b[43mcategorical\u001b[49m\u001b[38;5;241;43m=\u001b[39;49m\u001b[43mcategorical_columns\u001b[49m\u001b[43m)\u001b[49m\n\u001b[0;32m    325\u001b[0m     cluster_labels \u001b[38;5;241m=\u001b[39m (\n\u001b[0;32m    326\u001b[0m         kproto\u001b[38;5;241m.\u001b[39mlabels_\n\u001b[0;32m    327\u001b[0m     )  \u001b[38;5;66;03m# returns the labels with same indices as the learned dataset\u001b[39;00m\n\u001b[0;32m    329\u001b[0m original_data_count \u001b[38;5;241m=\u001b[39m original_data\u001b[38;5;241m.\u001b[39mshape[\u001b[38;5;241m0\u001b[39m]  \u001b[38;5;66;03m# number of samples in original data\u001b[39;00m\n",
      "File \u001b[1;32m~\\miniconda3\\envs\\syn\\lib\\site-packages\\kmodes\\kprototypes.py:161\u001b[0m, in \u001b[0;36mKPrototypes.fit\u001b[1;34m(self, X, y, categorical, sample_weight)\u001b[0m\n\u001b[0;32m    155\u001b[0m kmodes\u001b[38;5;241m.\u001b[39m_validate_sample_weight(sample_weight, n_samples\u001b[38;5;241m=\u001b[39mX\u001b[38;5;241m.\u001b[39mshape[\u001b[38;5;241m0\u001b[39m],\n\u001b[0;32m    156\u001b[0m                                n_clusters\u001b[38;5;241m=\u001b[39m\u001b[38;5;28mself\u001b[39m\u001b[38;5;241m.\u001b[39mn_clusters)\n\u001b[0;32m    158\u001b[0m \u001b[38;5;66;03m# If self.gamma is None, gamma will be automatically determined from\u001b[39;00m\n\u001b[0;32m    159\u001b[0m \u001b[38;5;66;03m# the data. The function below returns its value.\u001b[39;00m\n\u001b[0;32m    160\u001b[0m \u001b[38;5;28mself\u001b[39m\u001b[38;5;241m.\u001b[39m_enc_cluster_centroids, \u001b[38;5;28mself\u001b[39m\u001b[38;5;241m.\u001b[39m_enc_map, \u001b[38;5;28mself\u001b[39m\u001b[38;5;241m.\u001b[39mlabels_, \u001b[38;5;28mself\u001b[39m\u001b[38;5;241m.\u001b[39mcost_, \\\n\u001b[1;32m--> 161\u001b[0m \u001b[38;5;28mself\u001b[39m\u001b[38;5;241m.\u001b[39mn_iter_, \u001b[38;5;28mself\u001b[39m\u001b[38;5;241m.\u001b[39mepoch_costs_, \u001b[38;5;28mself\u001b[39m\u001b[38;5;241m.\u001b[39mgamma \u001b[38;5;241m=\u001b[39m \u001b[43mk_prototypes\u001b[49m\u001b[43m(\u001b[49m\n\u001b[0;32m    162\u001b[0m \u001b[43m    \u001b[49m\u001b[43mX\u001b[49m\u001b[43m,\u001b[49m\n\u001b[0;32m    163\u001b[0m \u001b[43m    \u001b[49m\u001b[43mcategorical\u001b[49m\u001b[43m,\u001b[49m\n\u001b[0;32m    164\u001b[0m \u001b[43m    \u001b[49m\u001b[38;5;28;43mself\u001b[39;49m\u001b[38;5;241;43m.\u001b[39;49m\u001b[43mn_clusters\u001b[49m\u001b[43m,\u001b[49m\n\u001b[0;32m    165\u001b[0m \u001b[43m    \u001b[49m\u001b[38;5;28;43mself\u001b[39;49m\u001b[38;5;241;43m.\u001b[39;49m\u001b[43mmax_iter\u001b[49m\u001b[43m,\u001b[49m\n\u001b[0;32m    166\u001b[0m \u001b[43m    \u001b[49m\u001b[38;5;28;43mself\u001b[39;49m\u001b[38;5;241;43m.\u001b[39;49m\u001b[43mnum_dissim\u001b[49m\u001b[43m,\u001b[49m\n\u001b[0;32m    167\u001b[0m \u001b[43m    \u001b[49m\u001b[38;5;28;43mself\u001b[39;49m\u001b[38;5;241;43m.\u001b[39;49m\u001b[43mcat_dissim\u001b[49m\u001b[43m,\u001b[49m\n\u001b[0;32m    168\u001b[0m \u001b[43m    \u001b[49m\u001b[38;5;28;43mself\u001b[39;49m\u001b[38;5;241;43m.\u001b[39;49m\u001b[43mgamma\u001b[49m\u001b[43m,\u001b[49m\n\u001b[0;32m    169\u001b[0m \u001b[43m    \u001b[49m\u001b[38;5;28;43mself\u001b[39;49m\u001b[38;5;241;43m.\u001b[39;49m\u001b[43minit\u001b[49m\u001b[43m,\u001b[49m\n\u001b[0;32m    170\u001b[0m \u001b[43m    \u001b[49m\u001b[38;5;28;43mself\u001b[39;49m\u001b[38;5;241;43m.\u001b[39;49m\u001b[43mn_init\u001b[49m\u001b[43m,\u001b[49m\n\u001b[0;32m    171\u001b[0m \u001b[43m    \u001b[49m\u001b[38;5;28;43mself\u001b[39;49m\u001b[38;5;241;43m.\u001b[39;49m\u001b[43mverbose\u001b[49m\u001b[43m,\u001b[49m\n\u001b[0;32m    172\u001b[0m \u001b[43m    \u001b[49m\u001b[43mrandom_state\u001b[49m\u001b[43m,\u001b[49m\n\u001b[0;32m    173\u001b[0m \u001b[43m    \u001b[49m\u001b[38;5;28;43mself\u001b[39;49m\u001b[38;5;241;43m.\u001b[39;49m\u001b[43mn_jobs\u001b[49m\u001b[43m,\u001b[49m\n\u001b[0;32m    174\u001b[0m \u001b[43m    \u001b[49m\u001b[43msample_weight\u001b[49m\u001b[43m,\u001b[49m\n\u001b[0;32m    175\u001b[0m \u001b[43m\u001b[49m\u001b[43m)\u001b[49m\n\u001b[0;32m    177\u001b[0m \u001b[38;5;28;01mreturn\u001b[39;00m \u001b[38;5;28mself\u001b[39m\n",
      "File \u001b[1;32m~\\miniconda3\\envs\\syn\\lib\\site-packages\\kmodes\\kprototypes.py:299\u001b[0m, in \u001b[0;36mk_prototypes\u001b[1;34m(X, categorical, n_clusters, max_iter, num_dissim, cat_dissim, gamma, init, n_init, verbose, random_state, n_jobs, sample_weight)\u001b[0m\n\u001b[0;32m    297\u001b[0m \u001b[38;5;28;01mif\u001b[39;00m n_jobs \u001b[38;5;241m==\u001b[39m \u001b[38;5;241m1\u001b[39m:\n\u001b[0;32m    298\u001b[0m     \u001b[38;5;28;01mfor\u001b[39;00m init_no \u001b[38;5;129;01min\u001b[39;00m \u001b[38;5;28mrange\u001b[39m(n_init):\n\u001b[1;32m--> 299\u001b[0m         results\u001b[38;5;241m.\u001b[39mappend(\u001b[43m_k_prototypes_single\u001b[49m\u001b[43m(\u001b[49m\u001b[43mXnum\u001b[49m\u001b[43m,\u001b[49m\u001b[43m \u001b[49m\u001b[43mXcat\u001b[49m\u001b[43m,\u001b[49m\u001b[43m \u001b[49m\u001b[43mnnumattrs\u001b[49m\u001b[43m,\u001b[49m\u001b[43m \u001b[49m\u001b[43mncatattrs\u001b[49m\u001b[43m,\u001b[49m\n\u001b[0;32m    300\u001b[0m \u001b[43m                                            \u001b[49m\u001b[43mn_clusters\u001b[49m\u001b[43m,\u001b[49m\u001b[43m \u001b[49m\u001b[43mn_points\u001b[49m\u001b[43m,\u001b[49m\u001b[43m \u001b[49m\u001b[43mmax_iter\u001b[49m\u001b[43m,\u001b[49m\n\u001b[0;32m    301\u001b[0m \u001b[43m                                            \u001b[49m\u001b[43mnum_dissim\u001b[49m\u001b[43m,\u001b[49m\u001b[43m \u001b[49m\u001b[43mcat_dissim\u001b[49m\u001b[43m,\u001b[49m\u001b[43m \u001b[49m\u001b[43mgamma\u001b[49m\u001b[43m,\u001b[49m\n\u001b[0;32m    302\u001b[0m \u001b[43m                                            \u001b[49m\u001b[43minit\u001b[49m\u001b[43m,\u001b[49m\u001b[43m \u001b[49m\u001b[43minit_no\u001b[49m\u001b[43m,\u001b[49m\u001b[43m \u001b[49m\u001b[43mverbose\u001b[49m\u001b[43m,\u001b[49m\u001b[43m \u001b[49m\u001b[43mseeds\u001b[49m\u001b[43m[\u001b[49m\u001b[43minit_no\u001b[49m\u001b[43m]\u001b[49m\u001b[43m,\u001b[49m\n\u001b[0;32m    303\u001b[0m \u001b[43m                                            \u001b[49m\u001b[43msample_weight\u001b[49m\u001b[43m)\u001b[49m)\n\u001b[0;32m    304\u001b[0m \u001b[38;5;28;01melse\u001b[39;00m:\n\u001b[0;32m    305\u001b[0m     results \u001b[38;5;241m=\u001b[39m Parallel(n_jobs\u001b[38;5;241m=\u001b[39mn_jobs, verbose\u001b[38;5;241m=\u001b[39m\u001b[38;5;241m0\u001b[39m)(\n\u001b[0;32m    306\u001b[0m         delayed(_k_prototypes_single)(Xnum, Xcat, nnumattrs, ncatattrs,\n\u001b[0;32m    307\u001b[0m                                       n_clusters, n_points, max_iter,\n\u001b[0;32m    308\u001b[0m                                       num_dissim, cat_dissim, gamma,\n\u001b[0;32m    309\u001b[0m                                       init, init_no, verbose, seed, sample_weight)\n\u001b[0;32m    310\u001b[0m         \u001b[38;5;28;01mfor\u001b[39;00m init_no, seed \u001b[38;5;129;01min\u001b[39;00m \u001b[38;5;28menumerate\u001b[39m(seeds))\n",
      "File \u001b[1;32m~\\miniconda3\\envs\\syn\\lib\\site-packages\\kmodes\\kprototypes.py:436\u001b[0m, in \u001b[0;36m_k_prototypes_single\u001b[1;34m(Xnum, Xcat, nnumattrs, ncatattrs, n_clusters, n_points, max_iter, num_dissim, cat_dissim, gamma, init, init_no, verbose, random_state, sample_weight)\u001b[0m\n\u001b[0;32m    433\u001b[0m \u001b[38;5;28;01mwhile\u001b[39;00m itr \u001b[38;5;241m<\u001b[39m max_iter \u001b[38;5;129;01mand\u001b[39;00m \u001b[38;5;129;01mnot\u001b[39;00m converged:\n\u001b[0;32m    434\u001b[0m     itr \u001b[38;5;241m+\u001b[39m\u001b[38;5;241m=\u001b[39m \u001b[38;5;241m1\u001b[39m\n\u001b[0;32m    435\u001b[0m     centroids, cl_attr_sum, cl_memb_sum, cl_attr_freq, membship, moves \u001b[38;5;241m=\u001b[39m \\\n\u001b[1;32m--> 436\u001b[0m         \u001b[43m_k_prototypes_iter\u001b[49m\u001b[43m(\u001b[49m\u001b[43mXnum\u001b[49m\u001b[43m,\u001b[49m\u001b[43m \u001b[49m\u001b[43mXcat\u001b[49m\u001b[43m,\u001b[49m\u001b[43m \u001b[49m\u001b[43mcentroids\u001b[49m\u001b[43m,\u001b[49m\u001b[43m \u001b[49m\u001b[43mcl_attr_sum\u001b[49m\u001b[43m,\u001b[49m\u001b[43m \u001b[49m\u001b[43mcl_memb_sum\u001b[49m\u001b[43m,\u001b[49m\n\u001b[0;32m    437\u001b[0m \u001b[43m                           \u001b[49m\u001b[43mcl_attr_freq\u001b[49m\u001b[43m,\u001b[49m\u001b[43m \u001b[49m\u001b[43mmembship\u001b[49m\u001b[43m,\u001b[49m\u001b[43m \u001b[49m\u001b[43mnum_dissim\u001b[49m\u001b[43m,\u001b[49m\u001b[43m \u001b[49m\u001b[43mcat_dissim\u001b[49m\u001b[43m,\u001b[49m\n\u001b[0;32m    438\u001b[0m \u001b[43m                           \u001b[49m\u001b[43mgamma\u001b[49m\u001b[43m,\u001b[49m\u001b[43m \u001b[49m\u001b[43mrandom_state\u001b[49m\u001b[43m,\u001b[49m\u001b[43m \u001b[49m\u001b[43msample_weight\u001b[49m\u001b[43m)\u001b[49m\n\u001b[0;32m    440\u001b[0m     \u001b[38;5;66;03m# All points seen in this iteration\u001b[39;00m\n\u001b[0;32m    441\u001b[0m     labels, ncost \u001b[38;5;241m=\u001b[39m labels_cost(Xnum, Xcat, centroids,\n\u001b[0;32m    442\u001b[0m                                 num_dissim, cat_dissim, gamma, membship, sample_weight)\n",
      "File \u001b[1;32m~\\miniconda3\\envs\\syn\\lib\\site-packages\\kmodes\\kprototypes.py:461\u001b[0m, in \u001b[0;36m_k_prototypes_iter\u001b[1;34m(Xnum, Xcat, centroids, cl_attr_sum, cl_memb_sum, cl_attr_freq, membship, num_dissim, cat_dissim, gamma, random_state, sample_weight)\u001b[0m\n\u001b[0;32m    457\u001b[0m \u001b[38;5;28;01mfor\u001b[39;00m ipoint \u001b[38;5;129;01min\u001b[39;00m \u001b[38;5;28mrange\u001b[39m(Xnum\u001b[38;5;241m.\u001b[39mshape[\u001b[38;5;241m0\u001b[39m]):\n\u001b[0;32m    458\u001b[0m     weight \u001b[38;5;241m=\u001b[39m sample_weight[ipoint] \u001b[38;5;28;01mif\u001b[39;00m sample_weight \u001b[38;5;129;01mis\u001b[39;00m \u001b[38;5;129;01mnot\u001b[39;00m \u001b[38;5;28;01mNone\u001b[39;00m \u001b[38;5;28;01melse\u001b[39;00m \u001b[38;5;241m1\u001b[39m\n\u001b[0;32m    459\u001b[0m     clust \u001b[38;5;241m=\u001b[39m np\u001b[38;5;241m.\u001b[39margmin(\n\u001b[0;32m    460\u001b[0m         num_dissim(centroids[\u001b[38;5;241m0\u001b[39m], Xnum[ipoint]) \u001b[38;5;241m+\u001b[39m\n\u001b[1;32m--> 461\u001b[0m         \u001b[43mgamma\u001b[49m\u001b[43m \u001b[49m\u001b[38;5;241;43m*\u001b[39;49m\u001b[43m \u001b[49m\u001b[43mcat_dissim\u001b[49m\u001b[43m(\u001b[49m\u001b[43mcentroids\u001b[49m\u001b[43m[\u001b[49m\u001b[38;5;241;43m1\u001b[39;49m\u001b[43m]\u001b[49m\u001b[43m,\u001b[49m\u001b[43m \u001b[49m\u001b[43mXcat\u001b[49m\u001b[43m[\u001b[49m\u001b[43mipoint\u001b[49m\u001b[43m]\u001b[49m\u001b[43m,\u001b[49m\u001b[43m \u001b[49m\u001b[43mX\u001b[49m\u001b[38;5;241;43m=\u001b[39;49m\u001b[43mXcat\u001b[49m\u001b[43m,\u001b[49m\u001b[43m \u001b[49m\u001b[43mmembship\u001b[49m\u001b[38;5;241;43m=\u001b[39;49m\u001b[43mmembship\u001b[49m\u001b[43m)\u001b[49m\n\u001b[0;32m    462\u001b[0m     )\n\u001b[0;32m    463\u001b[0m     \u001b[38;5;28;01mif\u001b[39;00m membship[clust, ipoint]:\n\u001b[0;32m    464\u001b[0m         \u001b[38;5;66;03m# Point is already in its right place.\u001b[39;00m\n\u001b[0;32m    465\u001b[0m         \u001b[38;5;28;01mcontinue\u001b[39;00m\n",
      "\u001b[1;31mKeyboardInterrupt\u001b[0m: "
     ]
    }
   ],
   "source": [
    "# read file f it exists, if not-create dataframe\n",
    "pf_measures_filepath = folders['pf_measures_filepath']\n",
    "\n",
    "if os.path.exists(pf_measures_filepath):\n",
    "    result_df = pd.read_csv(pf_measures_filepath)\n",
    "else:\n",
    "    result_df = pd.DataFrame(columns=['DatasetName'])\n",
    "\n",
    "for dataset_setting in settings:\n",
    "\n",
    "    original_data = pd.read_csv(folders['real_dir']+dataset_setting['meta']['filename'], dtype=dataset_setting['meta']['cols_dtype'])\n",
    "    metadata = SingleTableMetadata().load_from_json(dataset_setting['meta']['meta_filepath']).to_dict()\n",
    "    original_data_id = dataset_setting['meta']['id']\n",
    "    synthetic_datasets = get_synthetic_filepaths_from_original_data_id(original_data_id)\n",
    "    \n",
    "    print(f\"Data id: {original_data_id}\")\n",
    "    for sd_filename in synthetic_datasets:   \n",
    "        sd_id = os.path.splitext(sd_filename)[0]\n",
    "        quality = re.findall('Q\\d+', sd_id)[0]\n",
    "        sd_path = folders['sd_dir']+sd_filename\n",
    "\n",
    "        \n",
    "        # Check if the dataset has already been evaluated\n",
    "        row_exists = ((result_df['DatasetName'] == sd_id)).any()\n",
    "        if not row_exists:\n",
    "            print(f\"Computing PF on: {sd_id}\")\n",
    "            synthetic_data = pd.read_csv(sd_path)\n",
    "\n",
    "            pf_measures = compute_all_pf_measures(original_data=original_data,\n",
    "                                                  synthetic_data=synthetic_data,\n",
    "                                                  dataset_meta=dataset_setting['meta'],\n",
    "                                                  metadata=metadata,\n",
    "                                                  SD_id=sd_id)\n",
    "            pf_measures['Quality'] = quality\n",
    "            pf_measures['Original dataset'] = original_data_id\n",
    "            result_df = pd.concat([result_df, pf_measures], axis=0, ignore_index=True)\n",
    "\n",
    "        # save the results\n",
    "        result_df.to_csv(pf_measures_filepath, index=False)\n",
    "result_df.to_html(f\"{folders['result_dir']}pf_measures.html\")"
   ]
  }
 ],
 "metadata": {
  "kernelspec": {
   "display_name": "Python 3.9.16 (syn)",
   "language": "python",
   "name": "syn"
  },
  "language_info": {
   "codemirror_mode": {
    "name": "ipython",
    "version": 3
   },
   "file_extension": ".py",
   "mimetype": "text/x-python",
   "name": "python",
   "nbconvert_exporter": "python",
   "pygments_lexer": "ipython3",
   "version": "3.9.16"
  },
  "toc": {
   "base_numbering": 1,
   "nav_menu": {
    "height": "163px",
    "width": "322px"
   },
   "number_sections": true,
   "sideBar": true,
   "skip_h1_title": false,
   "title_cell": "Table of Contents",
   "title_sidebar": "Contents",
   "toc_cell": false,
   "toc_position": {
    "height": "calc(100% - 180px)",
    "left": "10px",
    "top": "150px",
    "width": "328px"
   },
   "toc_section_display": true,
   "toc_window_display": false
  }
 },
 "nbformat": 4,
 "nbformat_minor": 5
}
