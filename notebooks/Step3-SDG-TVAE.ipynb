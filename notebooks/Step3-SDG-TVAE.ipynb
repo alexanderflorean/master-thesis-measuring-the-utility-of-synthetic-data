{
 "cells": [
  {
   "cell_type": "markdown",
   "id": "d5f9411b-734f-4616-aab0-a36163b7fcab",
   "metadata": {},
   "source": [
    "# Step 3: SDG"
   ]
  },
  {
   "cell_type": "code",
   "execution_count": 1,
   "id": "81739df5-f21f-4ee5-8109-992bc7c8519f",
   "metadata": {},
   "outputs": [],
   "source": [
    "# necessary imports for the section\n",
    "from sdv.single_table import TVAESynthesizer as TVAE\n",
    "from sdv.metadata import SingleTableMetadata\n",
    "\n",
    "import pickle\n",
    "import pandas as pd \n",
    "import os \n",
    "import sys\n",
    "from io import StringIO\n",
    "\n",
    "sys.path.append('../src')\n",
    "from utils import (getPicklesFromDir, \n",
    "                   getExperimentConfig, \n",
    "                   extract_loss_info_from_stdout, \n",
    "                   create_loss_plot)\n",
    "\n",
    "# Get global experiment settings\n",
    "config = getExperimentConfig()\n",
    "# Get folders\n",
    "folders = config['folders']\n",
    "# Get dataset specific settings\n",
    "dataset_settings = getPicklesFromDir(folders['settings_dir'])"
   ]
  },
  {
   "cell_type": "code",
   "execution_count": 2,
   "id": "8070cb76",
   "metadata": {},
   "outputs": [],
   "source": [
    "def capture_stdout(func):\n",
    "    def wrapper(*args, **kwargs):\n",
    "        # Save the original stdout\n",
    "        original_stdout = sys.stdout\n",
    "\n",
    "        # Create a new StringIO object to temporarily redirect stdout\n",
    "        sys.stdout = StringIO()\n",
    "        \n",
    "        # Call the original function and get its output\n",
    "        func_output = func(*args, **kwargs)\n",
    "\n",
    "        # Retrieve the captured stdout\n",
    "        captured_stdout = sys.stdout.getvalue()\n",
    "        \n",
    "        # Close IO and restore the original stdout\n",
    "        sys.stdout.close()\n",
    "        sys.stdout = original_stdout\n",
    "\n",
    "        # Return both the function output and the captured stdout\n",
    "        return func_output, captured_stdout\n",
    "\n",
    "    return wrapper\n",
    "\n",
    "@capture_stdout\n",
    "def train_sdg_model(model, data, sdg_name):\n",
    "    print(\"#START#\")\n",
    "    print(sdg_name)\n",
    "    model.fit(data)\n",
    "    print(\"#END#\")\n",
    "    \n",
    "    return model"
   ]
  },
  {
   "cell_type": "code",
   "execution_count": 6,
   "id": "af9a99e5",
   "metadata": {
    "scrolled": true
   },
   "outputs": [
    {
     "data": {
      "text/plain": [
       "'Start: SDG-D305Q1000'"
      ]
     },
     "metadata": {},
     "output_type": "display_data"
    },
    {
     "name": "stdout",
     "output_type": "stream",
     "text": [
      "#START#\n",
      "SD305Q1000\n",
      "#END#\n"
     ]
    },
    {
     "name": "stderr",
     "output_type": "stream",
     "text": [
      "Sampling rows: 100%|███████████████████████████████████| 3500/3500 [01:16<00:00, 45.82it/s]\n",
      "Sampling rows: 100%|███████████████████████████████████| 3500/3500 [01:16<00:00, 45.99it/s]\n",
      "Sampling rows: 100%|███████████████████████████████████| 3500/3500 [01:16<00:00, 45.51it/s]\n",
      "Sampling rows: 100%|███████████████████████████████████| 3500/3500 [01:18<00:00, 44.60it/s]\n",
      "Sampling rows: 100%|███████████████████████████████████| 3500/3500 [01:15<00:00, 46.28it/s]\n",
      "Sampling rows: 100%|███████████████████████████████████| 3500/3500 [01:14<00:00, 47.17it/s]\n",
      "Sampling rows: 100%|███████████████████████████████████| 3500/3500 [01:17<00:00, 45.15it/s]\n",
      "Sampling rows: 100%|███████████████████████████████████| 3500/3500 [01:18<00:00, 44.60it/s]\n",
      "Sampling rows: 100%|███████████████████████████████████| 3500/3500 [01:14<00:00, 47.02it/s]\n",
      "Sampling rows: 100%|███████████████████████████████████| 3500/3500 [01:14<00:00, 47.22it/s]\n"
     ]
    }
   ],
   "source": [
    "# Specify datasets by Id, if None, all is run\n",
    "run_dataset = config['run_dataset']\n",
    "\n",
    "# get settings\n",
    "quality_params = config['tvae_param']['quality_params']\n",
    "sd_size_factor = config['tvae_param']['sd_size_factor']\n",
    "num_SD = config['tvae_param']['num_sd']\n",
    "\n",
    "\n",
    "# run SDG generation\n",
    "# for each dataset specific settings\n",
    "for s_index, settings in enumerate(dataset_settings):\n",
    "    \n",
    "    if run_dataset is not None and settings['meta']['id'] not in run_dataset:\n",
    "        continue\n",
    "    \n",
    "    metadata = SingleTableMetadata().load_from_json(settings['meta']['meta_filepath'])\n",
    "    experiment_name = f\"{settings['meta']['id']}-SDG\"\n",
    "    \n",
    "    # load original dataset\n",
    "    cols_dtype=None\n",
    "    if 'cols_dtype' in settings['meta']:\n",
    "        cols_dtyped = settings['meta']['cols_dtype']\n",
    "        \n",
    "    original_data = pd.read_csv(f\"{folders['real_dir']}{settings['meta']['filename']}\", dtype=cols_dtype)\n",
    "    \n",
    "    # get the size to generate the synthetic data\n",
    "    original_data_size = len(original_data)\n",
    "    sd_size = original_data_size * sd_size_factor\n",
    "    \n",
    "    logg_tags = {'Source': settings['meta']['id']}\n",
    "    \n",
    "    # loop through the different quality parameters for the SDG\n",
    "    for quality in quality_params:\n",
    "        \n",
    "        display(f\"Start: SDG-{settings['meta']['id']}{quality}\")\n",
    "        logg_tags['Quality'] = quality\n",
    "        \n",
    "        sdg_name = f\"S{settings['meta']['id']}{quality}\"\n",
    "        # Get path to save the artifacts, relative to notebooks dir\n",
    "        artifact_path='../data/result/SDG/'\n",
    "        \n",
    "        # creates model with sdg_param and quality_param as parameters\n",
    "        model = TVAE(metadata=metadata, **quality_params[quality])\n",
    "        \n",
    "        if 'sdg_constraints' in settings['meta']:\n",
    "            model.add_constraints(constraints=settings['meta']['sdg_constraints'])\n",
    "        \n",
    "        print(\"#START#\")\n",
    "        print(sdg_name)\n",
    "        model.fit(original_data)\n",
    "\n",
    "        #model, stdout_loss = train_sdg_model(model, original_data, sdg_name)\n",
    "        # extract loss, create loss plot and save it\n",
    "        print(\"#END#\")\n",
    "        \n",
    "        #loss_dict = extract_loss_info_from_stdout(stdout_loss)\n",
    "        #create and save loss plot\n",
    "        #fig = create_loss_plot(sdg_name, loss_dict[sdg_name])\n",
    "        #fig_path = f\"{artifact_path}/{sdg_name}_loss.png\"\n",
    "        #fig.savefig(fig_path)\n",
    "        #save loss data\n",
    "        #loss_df_path = f\"{artifact_path}/{sdg_name}_loss.csv\"\n",
    "        #loss_dict[sdg_name].to_csv(loss_df_path, index=False)        \n",
    "        # saves the SDG model using cloudpickle\n",
    "        \n",
    "        model_path = f\"{folders['SDGs_dir']}/{sdg_name}_TVAE.pkl\"\n",
    "        model.save(model_path)\n",
    "        \n",
    "        # create num_SD SDGs and synthetic datasets for validating results\n",
    "        for itr in range(num_SD):\n",
    "            \n",
    "            # creates Synthetic dataset name, using datset id, quality key, and itr number \n",
    "            # e.g. SD1Q1_2 means SDG trained on datset D1 with quality Q1 and copy num 2\n",
    "            SD_name = f\"S{settings['meta']['id']}{quality}_{str(itr)}\"\n",
    "            \n",
    "            # relative file path for the synthetic dataset\n",
    "            sd_path = f\"{folders['sd_dir']}{SD_name}_TVAE.csv\"\n",
    "            \n",
    "            # generate synthetic data\n",
    "            synthetic_data = model.sample(num_rows=sd_size)\n",
    "            \n",
    "            # save the synthetic dataset\n",
    "            synthetic_data.to_csv(sd_path, index=False)"
   ]
  },
  {
   "cell_type": "markdown",
   "id": "80b96202-dbae-460d-8755-746e2629b1f1",
   "metadata": {},
   "source": [
    "---"
   ]
  }
 ],
 "metadata": {
  "kernelspec": {
   "display_name": "Python 3.9.16 (syn)",
   "language": "python",
   "name": "syn"
  },
  "language_info": {
   "codemirror_mode": {
    "name": "ipython",
    "version": 3
   },
   "file_extension": ".py",
   "mimetype": "text/x-python",
   "name": "python",
   "nbconvert_exporter": "python",
   "pygments_lexer": "ipython3",
   "version": "3.9.16"
  },
  "toc": {
   "base_numbering": 1,
   "nav_menu": {
    "height": "163px",
    "width": "322px"
   },
   "number_sections": true,
   "sideBar": true,
   "skip_h1_title": false,
   "title_cell": "Table of Contents",
   "title_sidebar": "Contents",
   "toc_cell": false,
   "toc_position": {
    "height": "calc(100% - 180px)",
    "left": "10px",
    "top": "150px",
    "width": "328px"
   },
   "toc_section_display": true,
   "toc_window_display": false
  }
 },
 "nbformat": 4,
 "nbformat_minor": 5
}
