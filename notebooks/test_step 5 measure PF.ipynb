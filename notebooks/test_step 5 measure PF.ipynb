{
 "cells": [
  {
   "cell_type": "markdown",
   "id": "428e03ac",
   "metadata": {},
   "source": [
    "# Step 5: Measure Population Fidelity (PF)"
   ]
  },
  {
   "cell_type": "code",
   "execution_count": 1,
   "id": "14f8125a",
   "metadata": {},
   "outputs": [],
   "source": [
    "import pandas as pd\n",
    "from sklearn.model_selection import train_test_split\n",
    "from sklearn.tree import DecisionTreeClassifier\n",
    "from math import sqrt\n",
    "import sys\n",
    "\n",
    "sys.path.append('../src')\n",
    "from PF_metrics import *"
   ]
  },
  {
   "cell_type": "code",
   "execution_count": 2,
   "id": "618f1a71",
   "metadata": {},
   "outputs": [],
   "source": [
    "original_data = pd.read_csv(\"../data/real/diabetes.csv\")\n",
    "synthetic_data = pd.read_csv(\"../data/synthetic/SD0Q1_0.csv\")"
   ]
  },
  {
   "cell_type": "code",
   "execution_count": 3,
   "id": "b01d6627",
   "metadata": {},
   "outputs": [
    {
     "data": {
      "text/html": [
       "<div>\n",
       "<style scoped>\n",
       "    .dataframe tbody tr th:only-of-type {\n",
       "        vertical-align: middle;\n",
       "    }\n",
       "\n",
       "    .dataframe tbody tr th {\n",
       "        vertical-align: top;\n",
       "    }\n",
       "\n",
       "    .dataframe thead th {\n",
       "        text-align: right;\n",
       "    }\n",
       "</style>\n",
       "<table border=\"1\" class=\"dataframe\">\n",
       "  <thead>\n",
       "    <tr style=\"text-align: right;\">\n",
       "      <th></th>\n",
       "      <th>Pregnancies</th>\n",
       "      <th>Glucose</th>\n",
       "      <th>BloodPressure</th>\n",
       "      <th>SkinThickness</th>\n",
       "      <th>Insulin</th>\n",
       "      <th>BMI</th>\n",
       "      <th>DiabetesPedigreeFunction</th>\n",
       "      <th>Age</th>\n",
       "      <th>Outcome</th>\n",
       "    </tr>\n",
       "  </thead>\n",
       "  <tbody>\n",
       "    <tr>\n",
       "      <th>0</th>\n",
       "      <td>5</td>\n",
       "      <td>125</td>\n",
       "      <td>63</td>\n",
       "      <td>0</td>\n",
       "      <td>0</td>\n",
       "      <td>28.9</td>\n",
       "      <td>0.169</td>\n",
       "      <td>43</td>\n",
       "      <td>0</td>\n",
       "    </tr>\n",
       "    <tr>\n",
       "      <th>1</th>\n",
       "      <td>1</td>\n",
       "      <td>157</td>\n",
       "      <td>61</td>\n",
       "      <td>47</td>\n",
       "      <td>0</td>\n",
       "      <td>49.9</td>\n",
       "      <td>0.830</td>\n",
       "      <td>34</td>\n",
       "      <td>0</td>\n",
       "    </tr>\n",
       "    <tr>\n",
       "      <th>2</th>\n",
       "      <td>1</td>\n",
       "      <td>91</td>\n",
       "      <td>72</td>\n",
       "      <td>17</td>\n",
       "      <td>0</td>\n",
       "      <td>30.7</td>\n",
       "      <td>0.162</td>\n",
       "      <td>26</td>\n",
       "      <td>0</td>\n",
       "    </tr>\n",
       "    <tr>\n",
       "      <th>3</th>\n",
       "      <td>3</td>\n",
       "      <td>120</td>\n",
       "      <td>79</td>\n",
       "      <td>38</td>\n",
       "      <td>4</td>\n",
       "      <td>37.4</td>\n",
       "      <td>0.161</td>\n",
       "      <td>49</td>\n",
       "      <td>0</td>\n",
       "    </tr>\n",
       "    <tr>\n",
       "      <th>4</th>\n",
       "      <td>6</td>\n",
       "      <td>181</td>\n",
       "      <td>62</td>\n",
       "      <td>40</td>\n",
       "      <td>3</td>\n",
       "      <td>44.9</td>\n",
       "      <td>0.170</td>\n",
       "      <td>49</td>\n",
       "      <td>0</td>\n",
       "    </tr>\n",
       "  </tbody>\n",
       "</table>\n",
       "</div>"
      ],
      "text/plain": [
       "   Pregnancies  Glucose  BloodPressure  SkinThickness  Insulin   BMI  \\\n",
       "0            5      125             63              0        0  28.9   \n",
       "1            1      157             61             47        0  49.9   \n",
       "2            1       91             72             17        0  30.7   \n",
       "3            3      120             79             38        4  37.4   \n",
       "4            6      181             62             40        3  44.9   \n",
       "\n",
       "   DiabetesPedigreeFunction  Age  Outcome  \n",
       "0                     0.169   43        0  \n",
       "1                     0.830   34        0  \n",
       "2                     0.162   26        0  \n",
       "3                     0.161   49        0  \n",
       "4                     0.170   49        0  "
      ]
     },
     "execution_count": 3,
     "metadata": {},
     "output_type": "execute_result"
    }
   ],
   "source": [
    "synthetic_data.drop(columns=['Unnamed: 0'], inplace=True)\n",
    "synthetic_data.head()"
   ]
  },
  {
   "cell_type": "code",
   "execution_count": 4,
   "id": "b4552d1f",
   "metadata": {},
   "outputs": [
    {
     "data": {
      "text/plain": [
       "228.49999999999997"
      ]
     },
     "execution_count": 4,
     "metadata": {},
     "output_type": "execute_result"
    }
   ],
   "source": [
    "prop = S_pMSE(original_data, synthetic_data)\n",
    "prop"
   ]
  },
  {
   "cell_type": "code",
   "execution_count": 5,
   "id": "d48b587b",
   "metadata": {},
   "outputs": [
    {
     "data": {
      "text/plain": [
       "0.07503255208333333"
      ]
     },
     "execution_count": 5,
     "metadata": {},
     "output_type": "execute_result"
    }
   ],
   "source": [
    "pMSE(original_data, synthetic_data)"
   ]
  },
  {
   "cell_type": "code",
   "execution_count": 6,
   "id": "0c1bacba",
   "metadata": {},
   "outputs": [
    {
     "data": {
      "text/plain": [
       "0.00033955671641258667"
      ]
     },
     "execution_count": 6,
     "metadata": {},
     "output_type": "execute_result"
    }
   ],
   "source": [
    "cluster_analysis_metric(original_data, synthetic_data, 20, [8])"
   ]
  },
  {
   "cell_type": "code",
   "execution_count": 7,
   "id": "f363071e",
   "metadata": {},
   "outputs": [
    {
     "data": {
      "text/html": [
       "<div>\n",
       "<style scoped>\n",
       "    .dataframe tbody tr th:only-of-type {\n",
       "        vertical-align: middle;\n",
       "    }\n",
       "\n",
       "    .dataframe tbody tr th {\n",
       "        vertical-align: top;\n",
       "    }\n",
       "\n",
       "    .dataframe thead th {\n",
       "        text-align: right;\n",
       "    }\n",
       "</style>\n",
       "<table border=\"1\" class=\"dataframe\">\n",
       "  <thead>\n",
       "    <tr style=\"text-align: right;\">\n",
       "      <th></th>\n",
       "      <th>Pregnancies</th>\n",
       "      <th>Glucose</th>\n",
       "      <th>BloodPressure</th>\n",
       "      <th>SkinThickness</th>\n",
       "      <th>Insulin</th>\n",
       "      <th>BMI</th>\n",
       "      <th>DiabetesPedigreeFunction</th>\n",
       "      <th>Age</th>\n",
       "      <th>Outcome</th>\n",
       "    </tr>\n",
       "  </thead>\n",
       "  <tbody>\n",
       "    <tr>\n",
       "      <th>0</th>\n",
       "      <td>6</td>\n",
       "      <td>148</td>\n",
       "      <td>72</td>\n",
       "      <td>35</td>\n",
       "      <td>0</td>\n",
       "      <td>33.6</td>\n",
       "      <td>0.627</td>\n",
       "      <td>50</td>\n",
       "      <td>1</td>\n",
       "    </tr>\n",
       "    <tr>\n",
       "      <th>1</th>\n",
       "      <td>1</td>\n",
       "      <td>85</td>\n",
       "      <td>66</td>\n",
       "      <td>29</td>\n",
       "      <td>0</td>\n",
       "      <td>26.6</td>\n",
       "      <td>0.351</td>\n",
       "      <td>31</td>\n",
       "      <td>0</td>\n",
       "    </tr>\n",
       "    <tr>\n",
       "      <th>2</th>\n",
       "      <td>8</td>\n",
       "      <td>183</td>\n",
       "      <td>64</td>\n",
       "      <td>0</td>\n",
       "      <td>0</td>\n",
       "      <td>23.3</td>\n",
       "      <td>0.672</td>\n",
       "      <td>32</td>\n",
       "      <td>1</td>\n",
       "    </tr>\n",
       "    <tr>\n",
       "      <th>3</th>\n",
       "      <td>1</td>\n",
       "      <td>89</td>\n",
       "      <td>66</td>\n",
       "      <td>23</td>\n",
       "      <td>94</td>\n",
       "      <td>28.1</td>\n",
       "      <td>0.167</td>\n",
       "      <td>21</td>\n",
       "      <td>0</td>\n",
       "    </tr>\n",
       "    <tr>\n",
       "      <th>4</th>\n",
       "      <td>0</td>\n",
       "      <td>137</td>\n",
       "      <td>40</td>\n",
       "      <td>35</td>\n",
       "      <td>168</td>\n",
       "      <td>43.1</td>\n",
       "      <td>2.288</td>\n",
       "      <td>33</td>\n",
       "      <td>1</td>\n",
       "    </tr>\n",
       "  </tbody>\n",
       "</table>\n",
       "</div>"
      ],
      "text/plain": [
       "   Pregnancies  Glucose  BloodPressure  SkinThickness  Insulin   BMI  \\\n",
       "0            6      148             72             35        0  33.6   \n",
       "1            1       85             66             29        0  26.6   \n",
       "2            8      183             64              0        0  23.3   \n",
       "3            1       89             66             23       94  28.1   \n",
       "4            0      137             40             35      168  43.1   \n",
       "\n",
       "   DiabetesPedigreeFunction  Age  Outcome  \n",
       "0                     0.627   50        1  \n",
       "1                     0.351   31        0  \n",
       "2                     0.672   32        1  \n",
       "3                     0.167   21        0  \n",
       "4                     2.288   33        1  "
      ]
     },
     "execution_count": 7,
     "metadata": {},
     "output_type": "execute_result"
    }
   ],
   "source": [
    "original_data.head()"
   ]
  },
  {
   "cell_type": "code",
   "execution_count": 8,
   "id": "169bb623",
   "metadata": {},
   "outputs": [
    {
     "name": "stdout",
     "output_type": "stream",
     "text": [
      "     Pregnancies   Glucose  BloodPressure  SkinThickness   Insulin       BMI  \\\n",
      "0       0.607196  0.711526       0.061927       0.877203 -0.705523  0.133480   \n",
      "1      -0.862474 -1.246303      -0.243761       0.503189 -0.705523 -0.710992   \n",
      "2       1.195064  1.799208      -0.345657      -1.304543 -0.705523 -1.109100   \n",
      "3      -0.862474 -1.121996      -0.243761       0.129176  0.196810 -0.530033   \n",
      "4      -1.156408  0.369683      -1.568410       0.877203  0.907158  1.279549   \n",
      "..           ...       ...            ...            ...       ...       ...   \n",
      "763    -0.274606 -0.593693       0.928043      -1.304543 -0.705523  0.290311   \n",
      "764     0.607196 -0.158620       0.010979       1.001874 -0.619129  0.350630   \n",
      "765    -0.274606 -1.121996       0.622355       0.627861  1.694299 -0.168117   \n",
      "766     0.313262  1.208752      -2.740214      -1.304543 -0.705523 -0.373203   \n",
      "767     0.313262 -0.935536      -0.243761      -0.057831 -0.686324 -1.060844   \n",
      "\n",
      "     DiabetesPedigreeFunction       Age  Outcome  \n",
      "0                    0.716431  1.249562        1  \n",
      "1                   -0.188575 -0.296380        0  \n",
      "2                    0.863987 -0.215014        1  \n",
      "3                   -0.791913 -1.110034        0  \n",
      "4                    6.162864 -0.133649        1  \n",
      "..                        ...       ...      ...  \n",
      "763                 -0.968979 -0.703207        1  \n",
      "764                 -1.083744  1.005466        1  \n",
      "765                 -1.005048 -0.621841        1  \n",
      "766                 -0.765680  0.517274        0  \n",
      "767                  0.021282 -0.621841        0  \n",
      "\n",
      "[1536 rows x 9 columns]\n"
     ]
    }
   ],
   "source": [
    "exclude_indices = [8]#[0,1,2,3,4,5,7,8]  # Do not standardize column B\n",
    "data = pd.concat([original_data, synthetic_data], axis=0)\n",
    "standardized_data = standardize_select_columns(data, exclude_indices)\n",
    "\n",
    "print(standardized_data)\n"
   ]
  }
 ],
 "metadata": {
  "kernelspec": {
   "display_name": "Pytho 3.9.16 (master)",
   "language": "python",
   "name": "master"
  },
  "language_info": {
   "codemirror_mode": {
    "name": "ipython",
    "version": 3
   },
   "file_extension": ".py",
   "mimetype": "text/x-python",
   "name": "python",
   "nbconvert_exporter": "python",
   "pygments_lexer": "ipython3",
   "version": "3.9.16"
  },
  "toc": {
   "base_numbering": 1,
   "nav_menu": {},
   "number_sections": true,
   "sideBar": true,
   "skip_h1_title": false,
   "title_cell": "Table of Contents",
   "title_sidebar": "Contents",
   "toc_cell": false,
   "toc_position": {},
   "toc_section_display": true,
   "toc_window_display": false
  }
 },
 "nbformat": 4,
 "nbformat_minor": 5
}
