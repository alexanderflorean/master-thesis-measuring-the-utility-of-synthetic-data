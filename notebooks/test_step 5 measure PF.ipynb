{
 "cells": [
  {
   "cell_type": "markdown",
   "id": "428e03ac",
   "metadata": {},
   "source": [
    "# Step 5: Measure Population Fidelity (PF)"
   ]
  },
  {
   "cell_type": "code",
   "execution_count": 1,
   "id": "14f8125a",
   "metadata": {},
   "outputs": [],
   "source": [
    "import pandas as pd\n",
    "from sklearn.model_selection import train_test_split\n",
    "from sklearn.tree import DecisionTreeClassifier\n",
    "from math import sqrt\n",
    "import sys\n",
    "\n",
    "sys.path.append('../src')\n",
    "from PF_metrics import *"
   ]
  },
  {
   "cell_type": "code",
   "execution_count": 2,
   "id": "618f1a71",
   "metadata": {},
   "outputs": [],
   "source": [
    "original_data = pd.read_csv(\"../data/real/diabetes.csv\")\n",
    "synthetic_data = pd.read_csv(\"../data/synthetic/SD0Q1_0.csv\")"
   ]
  },
  {
   "cell_type": "code",
   "execution_count": 3,
   "id": "b01d6627",
   "metadata": {},
   "outputs": [
    {
     "data": {
      "text/html": [
       "<div>\n",
       "<style scoped>\n",
       "    .dataframe tbody tr th:only-of-type {\n",
       "        vertical-align: middle;\n",
       "    }\n",
       "\n",
       "    .dataframe tbody tr th {\n",
       "        vertical-align: top;\n",
       "    }\n",
       "\n",
       "    .dataframe thead th {\n",
       "        text-align: right;\n",
       "    }\n",
       "</style>\n",
       "<table border=\"1\" class=\"dataframe\">\n",
       "  <thead>\n",
       "    <tr style=\"text-align: right;\">\n",
       "      <th></th>\n",
       "      <th>Pregnancies</th>\n",
       "      <th>Glucose</th>\n",
       "      <th>BloodPressure</th>\n",
       "      <th>SkinThickness</th>\n",
       "      <th>Insulin</th>\n",
       "      <th>BMI</th>\n",
       "      <th>DiabetesPedigreeFunction</th>\n",
       "      <th>Age</th>\n",
       "      <th>Outcome</th>\n",
       "    </tr>\n",
       "  </thead>\n",
       "  <tbody>\n",
       "    <tr>\n",
       "      <th>0</th>\n",
       "      <td>5</td>\n",
       "      <td>125</td>\n",
       "      <td>63</td>\n",
       "      <td>0</td>\n",
       "      <td>0</td>\n",
       "      <td>28.9</td>\n",
       "      <td>0.169</td>\n",
       "      <td>43</td>\n",
       "      <td>0</td>\n",
       "    </tr>\n",
       "    <tr>\n",
       "      <th>1</th>\n",
       "      <td>1</td>\n",
       "      <td>157</td>\n",
       "      <td>61</td>\n",
       "      <td>47</td>\n",
       "      <td>0</td>\n",
       "      <td>49.9</td>\n",
       "      <td>0.830</td>\n",
       "      <td>34</td>\n",
       "      <td>0</td>\n",
       "    </tr>\n",
       "    <tr>\n",
       "      <th>2</th>\n",
       "      <td>1</td>\n",
       "      <td>91</td>\n",
       "      <td>72</td>\n",
       "      <td>17</td>\n",
       "      <td>0</td>\n",
       "      <td>30.7</td>\n",
       "      <td>0.162</td>\n",
       "      <td>26</td>\n",
       "      <td>0</td>\n",
       "    </tr>\n",
       "    <tr>\n",
       "      <th>3</th>\n",
       "      <td>3</td>\n",
       "      <td>120</td>\n",
       "      <td>79</td>\n",
       "      <td>38</td>\n",
       "      <td>4</td>\n",
       "      <td>37.4</td>\n",
       "      <td>0.161</td>\n",
       "      <td>49</td>\n",
       "      <td>0</td>\n",
       "    </tr>\n",
       "    <tr>\n",
       "      <th>4</th>\n",
       "      <td>6</td>\n",
       "      <td>181</td>\n",
       "      <td>62</td>\n",
       "      <td>40</td>\n",
       "      <td>3</td>\n",
       "      <td>44.9</td>\n",
       "      <td>0.170</td>\n",
       "      <td>49</td>\n",
       "      <td>0</td>\n",
       "    </tr>\n",
       "  </tbody>\n",
       "</table>\n",
       "</div>"
      ],
      "text/plain": [
       "   Pregnancies  Glucose  BloodPressure  SkinThickness  Insulin   BMI  \\\n",
       "0            5      125             63              0        0  28.9   \n",
       "1            1      157             61             47        0  49.9   \n",
       "2            1       91             72             17        0  30.7   \n",
       "3            3      120             79             38        4  37.4   \n",
       "4            6      181             62             40        3  44.9   \n",
       "\n",
       "   DiabetesPedigreeFunction  Age  Outcome  \n",
       "0                     0.169   43        0  \n",
       "1                     0.830   34        0  \n",
       "2                     0.162   26        0  \n",
       "3                     0.161   49        0  \n",
       "4                     0.170   49        0  "
      ]
     },
     "execution_count": 3,
     "metadata": {},
     "output_type": "execute_result"
    }
   ],
   "source": [
    "synthetic_data.drop(columns=['Unnamed: 0'], inplace=True)\n",
    "synthetic_data.head()"
   ]
  },
  {
   "cell_type": "code",
   "execution_count": 4,
   "id": "b4552d1f",
   "metadata": {},
   "outputs": [
    {
     "data": {
      "text/plain": [
       "228.49999999999997"
      ]
     },
     "execution_count": 4,
     "metadata": {},
     "output_type": "execute_result"
    }
   ],
   "source": [
    "prop = S_pMSE(original_data, synthetic_data)\n",
    "prop"
   ]
  },
  {
   "cell_type": "code",
   "execution_count": 5,
   "id": "d48b587b",
   "metadata": {},
   "outputs": [
    {
     "data": {
      "text/plain": [
       "0.07503255208333333"
      ]
     },
     "execution_count": 5,
     "metadata": {},
     "output_type": "execute_result"
    }
   ],
   "source": [
    "pMSE(original_data, synthetic_data)"
   ]
  },
  {
   "cell_type": "code",
   "execution_count": 37,
   "id": "0c1bacba",
   "metadata": {
    "scrolled": true
   },
   "outputs": [
    {
     "name": "stderr",
     "output_type": "stream",
     "text": [
      "C:\\Users\\flore\\anaconda3\\envs\\master\\lib\\site-packages\\sklearn\\cluster\\_kmeans.py:870: FutureWarning: The default value of `n_init` will change from 10 to 'auto' in 1.4. Set the value of `n_init` explicitly to suppress the warning\n",
      "  warnings.warn(\n",
      "C:\\Users\\flore\\anaconda3\\envs\\master\\lib\\site-packages\\sklearn\\cluster\\_kmeans.py:1382: UserWarning: KMeans is known to have a memory leak on Windows with MKL, when there are less chunks than available threads. You can avoid it by setting the environment variable OMP_NUM_THREADS=6.\n",
      "  warnings.warn(\n"
     ]
    },
    {
     "data": {
      "text/plain": [
       "0.00044042333666528187"
      ]
     },
     "execution_count": 37,
     "metadata": {},
     "output_type": "execute_result"
    }
   ],
   "source": [
    "cluster_analysis_metric(original_data, synthetic_data, 20)"
   ]
  },
  {
   "cell_type": "code",
   "execution_count": 7,
   "id": "b5dc7afb",
   "metadata": {},
   "outputs": [
    {
     "name": "stderr",
     "output_type": "stream",
     "text": [
      "C:\\Users\\flore\\anaconda3\\envs\\master\\lib\\site-packages\\sklearn\\cluster\\_kmeans.py:870: FutureWarning: The default value of `n_init` will change from 10 to 'auto' in 1.4. Set the value of `n_init` explicitly to suppress the warning\n",
      "  warnings.warn(\n",
      "C:\\Users\\flore\\anaconda3\\envs\\master\\lib\\site-packages\\sklearn\\cluster\\_kmeans.py:1382: UserWarning: KMeans is known to have a memory leak on Windows with MKL, when there are less chunks than available threads. You can avoid it by setting the environment variable OMP_NUM_THREADS=6.\n",
      "  warnings.warn(\n"
     ]
    }
   ],
   "source": [
    "num_clusters=500\n",
    "weights=None\n",
    "# Combine original and synthetic data\n",
    "combined_data = pd.concat([original_data, synthetic_data], axis=0)\n",
    "\n",
    "# Perform clustering on the combined data\n",
    "kmeans = KMeans(n_clusters=num_clusters, random_state=42).fit(combined_data)\n",
    "\n",
    "# Get cluster labels for each record\n",
    "cluster_labels = kmeans.labels_\n",
    "\n",
    "n_o = original_data.shape[0]     # number of samples in original data\n",
    "n_s = synthetic_data.shape[0]    # number of samples in synthetic data\n",
    "\n",
    "# Calculate constant c\n",
    "c = n_o / (n_o + n_s)\n",
    "\n",
    "# Initialize Uc\n",
    "Uc = 0\n",
    "\n",
    "# Calculate Uc for each cluster\n",
    "for j in range(num_clusters):\n",
    "    # Get the number of observations from the original and synthetic data in the j-th cluster\n",
    "    n_j_o = np.sum(cluster_labels[:n_o] == j)\n",
    "    n_j_m = np.sum(cluster_labels[n_o:] == j)\n",
    "    n_j = n_j_o + n_j_m\n",
    "\n",
    "    # Calculate the weight for the j-th cluster\n",
    "    if weights is None:\n",
    "        w_j = 1\n",
    "    else:\n",
    "        w_j = weights[j]\n",
    "\n",
    "    # Update Uc\n",
    "    Uc += w_j * ((n_j_o / n_j) - c) ** 2\n",
    "\n",
    "# Normalize Uc by the number of clusters\n",
    "Uc /= num_clusters\n"
   ]
  },
  {
   "cell_type": "code",
   "execution_count": 8,
   "id": "f1de63ea",
   "metadata": {},
   "outputs": [
    {
     "name": "stdout",
     "output_type": "stream",
     "text": [
      "[5]\n"
     ]
    }
   ],
   "source": [
    "vals = [0, 1, 2, 3, 4, 5]\n",
    "\n",
    "print(vals[5:])"
   ]
  }
 ],
 "metadata": {
  "kernelspec": {
   "display_name": "Pytho 3.9.16 (master)",
   "language": "python",
   "name": "master"
  },
  "language_info": {
   "codemirror_mode": {
    "name": "ipython",
    "version": 3
   },
   "file_extension": ".py",
   "mimetype": "text/x-python",
   "name": "python",
   "nbconvert_exporter": "python",
   "pygments_lexer": "ipython3",
   "version": "3.9.16"
  },
  "toc": {
   "base_numbering": 1,
   "nav_menu": {},
   "number_sections": true,
   "sideBar": true,
   "skip_h1_title": false,
   "title_cell": "Table of Contents",
   "title_sidebar": "Contents",
   "toc_cell": false,
   "toc_position": {},
   "toc_section_display": true,
   "toc_window_display": false
  }
 },
 "nbformat": 4,
 "nbformat_minor": 5
}
